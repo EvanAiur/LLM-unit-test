{
 "cells": [
  {
   "cell_type": "code",
   "execution_count": 22,
   "id": "cdc44f26",
   "metadata": {
    "scrolled": true
   },
   "outputs": [
    {
     "name": "stdout",
     "output_type": "stream",
     "text": [
      "Requirement already satisfied: guidance in c:\\users\\yulou\\anaconda3\\lib\\site-packages (0.0.64)\n",
      "Requirement already satisfied: requests in c:\\users\\yulou\\anaconda3\\lib\\site-packages (from guidance) (2.28.1)\n",
      "Requirement already satisfied: pygtrie in c:\\users\\yulou\\anaconda3\\lib\\site-packages (from guidance) (2.5.0)\n",
      "Requirement already satisfied: platformdirs in c:\\users\\yulou\\anaconda3\\lib\\site-packages (from guidance) (2.5.2)\n",
      "Requirement already satisfied: openai>=0.27.8 in c:\\users\\yulou\\anaconda3\\lib\\site-packages (from guidance) (0.28.0)\n",
      "Requirement already satisfied: aiohttp in c:\\users\\yulou\\anaconda3\\lib\\site-packages (from guidance) (3.8.5)\n",
      "Requirement already satisfied: msal in c:\\users\\yulou\\anaconda3\\lib\\site-packages (from guidance) (1.23.0)\n",
      "Requirement already satisfied: nest-asyncio in c:\\users\\yulou\\anaconda3\\lib\\site-packages (from guidance) (1.5.5)\n",
      "Requirement already satisfied: tiktoken>=0.3 in c:\\users\\yulou\\anaconda3\\lib\\site-packages (from guidance) (0.4.0)\n",
      "Requirement already satisfied: gptcache in c:\\users\\yulou\\anaconda3\\lib\\site-packages (from guidance) (0.1.40)\n",
      "Requirement already satisfied: numpy in c:\\users\\yulou\\anaconda3\\lib\\site-packages (from guidance) (1.21.5)\n",
      "Requirement already satisfied: diskcache in c:\\users\\yulou\\anaconda3\\lib\\site-packages (from guidance) (5.6.3)\n",
      "Requirement already satisfied: pyparsing>=3.0.0 in c:\\users\\yulou\\anaconda3\\lib\\site-packages (from guidance) (3.0.9)\n",
      "Requirement already satisfied: tqdm in c:\\users\\yulou\\anaconda3\\lib\\site-packages (from openai>=0.27.8->guidance) (4.64.1)\n",
      "Requirement already satisfied: idna<4,>=2.5 in c:\\users\\yulou\\anaconda3\\lib\\site-packages (from requests->guidance) (3.3)\n",
      "Requirement already satisfied: charset-normalizer<3,>=2 in c:\\users\\yulou\\anaconda3\\lib\\site-packages (from requests->guidance) (2.0.4)\n",
      "Requirement already satisfied: urllib3<1.27,>=1.21.1 in c:\\users\\yulou\\anaconda3\\lib\\site-packages (from requests->guidance) (1.26.11)\n",
      "Requirement already satisfied: certifi>=2017.4.17 in c:\\users\\yulou\\anaconda3\\lib\\site-packages (from requests->guidance) (2022.9.14)\n",
      "Requirement already satisfied: regex>=2022.1.18 in c:\\users\\yulou\\anaconda3\\lib\\site-packages (from tiktoken>=0.3->guidance) (2022.7.9)\n",
      "Requirement already satisfied: async-timeout<5.0,>=4.0.0a3 in c:\\users\\yulou\\anaconda3\\lib\\site-packages (from aiohttp->guidance) (4.0.3)\n",
      "Requirement already satisfied: aiosignal>=1.1.2 in c:\\users\\yulou\\anaconda3\\lib\\site-packages (from aiohttp->guidance) (1.3.1)\n",
      "Requirement already satisfied: frozenlist>=1.1.1 in c:\\users\\yulou\\anaconda3\\lib\\site-packages (from aiohttp->guidance) (1.4.0)\n",
      "Requirement already satisfied: multidict<7.0,>=4.5 in c:\\users\\yulou\\anaconda3\\lib\\site-packages (from aiohttp->guidance) (6.0.4)\n",
      "Requirement already satisfied: yarl<2.0,>=1.0 in c:\\users\\yulou\\anaconda3\\lib\\site-packages (from aiohttp->guidance) (1.9.2)\n",
      "Requirement already satisfied: attrs>=17.3.0 in c:\\users\\yulou\\anaconda3\\lib\\site-packages (from aiohttp->guidance) (21.4.0)\n",
      "Requirement already satisfied: cachetools in c:\\users\\yulou\\anaconda3\\lib\\site-packages (from gptcache->guidance) (5.3.1)\n",
      "Requirement already satisfied: cryptography<44,>=0.6 in c:\\users\\yulou\\anaconda3\\lib\\site-packages (from msal->guidance) (37.0.1)\n",
      "Requirement already satisfied: PyJWT[crypto]<3,>=1.0.0 in c:\\users\\yulou\\anaconda3\\lib\\site-packages (from msal->guidance) (2.4.0)\n",
      "Requirement already satisfied: cffi>=1.12 in c:\\users\\yulou\\anaconda3\\lib\\site-packages (from cryptography<44,>=0.6->msal->guidance) (1.15.1)\n",
      "Requirement already satisfied: colorama in c:\\users\\yulou\\anaconda3\\lib\\site-packages (from tqdm->openai>=0.27.8->guidance) (0.4.5)\n",
      "Requirement already satisfied: pycparser in c:\\users\\yulou\\anaconda3\\lib\\site-packages (from cffi>=1.12->cryptography<44,>=0.6->msal->guidance) (2.21)\n",
      "Note: you may need to restart the kernel to use updated packages.\n"
     ]
    }
   ],
   "source": [
    "pip install guidance --upgrade"
   ]
  },
  {
   "cell_type": "code",
   "execution_count": 1,
   "id": "84527276",
   "metadata": {},
   "outputs": [
    {
     "data": {
      "text/html": [
       "<div id=\"guidance-stop-button-7b43ff01-f157-4160-8202-81c62c3f9020\" style=\"cursor: pointer; margin: 0px; display: none; float: right; padding: 3px; border-radius: 4px 4px 4px 4px; border: 0px solid rgba(127, 127, 127, 1); padding-left: 10px; padding-right: 10px; font-size: 13px; background-color: rgba(127, 127, 127, 0.25);\">Stop program</div><div id=\"guidance-content-7b43ff01-f157-4160-8202-81c62c3f9020\"><pre style='margin: 0px; padding: 0px; padding-left: 8px; margin-left: -8px; border-radius: 0px; border-left: 1px solid rgba(127, 127, 127, 0.2); white-space: pre-wrap; font-family: ColfaxAI, Arial; font-size: 15px; line-height: 23px;'> \n",
       "<span style='font-family: monospace; background-color: rgba(0, 0, 0, 0.05);'>{{#system~}}</span>\n",
       "You are a UniTest code generator.\n",
       "<span style='font-family: monospace; background-color: rgba(0, 0, 0, 0.05);'>{{~/system}}</span>\n",
       "\n",
       "<span style='font-family: monospace; background-color: rgba(0, 0, 0, 0.05);'>{{#user~}}</span>\n",
       "- use NUnit test framework\n",
       "- use C#\n",
       "- the test environment is Unity\n",
       "- generate code with explanation\n",
       "- My code is:\n",
       "<span style='font-family: monospace; background-color: rgba(0, 0, 0, 0.05);'>{{code_block}}</span>\n",
       "Write the unit test cases for the above code.\n",
       "<span style='font-family: monospace; background-color: rgba(0, 0, 0, 0.05);'>{{~/user}}</span>\n",
       "\n",
       "<span style='font-family: monospace; background-color: rgba(0, 0, 0, 0.05);'>{{#assistant~}}</span>\n",
       "<span style='font-family: monospace; background-color: rgba(0, 0, 0, 0.05);'>{{gen &#x27;unit_test_code&#x27; temperature=0.5 max_tokens=500}}</span>\n",
       "<span style='font-family: monospace; background-color: rgba(0, 0, 0, 0.05);'>{{~/assistant}}</span>\n",
       " </pre></div>\n",
       "<script type=\"text/javascript\">(()=>{var t={296:(t,e,n)=>{var i=NaN,o=\"[object Symbol]\",r=/^\\s+|\\s+$/g,a=/^[-+]0x[0-9a-f]+$/i,s=/^0b[01]+$/i,c=/^0o[0-7]+$/i,d=parseInt,u=\"object\"==typeof n.g&&n.g&&n.g.Object===Object&&n.g,l=\"object\"==typeof self&&self&&self.Object===Object&&self,f=u||l||Function(\"return this\")(),h=Object.prototype.toString,p=Math.max,m=Math.min,g=function(){return f.Date.now()};function b(t){var e=typeof t;return!!t&&(\"object\"==e||\"function\"==e)}function y(t){if(\"number\"==typeof t)return t;if(function(t){return\"symbol\"==typeof t||function(t){return!!t&&\"object\"==typeof t}(t)&&h.call(t)==o}(t))return i;if(b(t)){var e=\"function\"==typeof t.valueOf?t.valueOf():t;t=b(e)?e+\"\":e}if(\"string\"!=typeof t)return 0===t?t:+t;t=t.replace(r,\"\");var n=s.test(t);return n||c.test(t)?d(t.slice(2),n?2:8):a.test(t)?i:+t}t.exports=function(t,e,n){var i,o,r,a,s,c,d=0,u=!1,l=!1,f=!0;if(\"function\"!=typeof t)throw new TypeError(\"Expected a function\");function h(e){var n=i,r=o;return i=o=void 0,d=e,a=t.apply(r,n)}function v(t){var n=t-c;return void 0===c||n>=e||n<0||l&&t-d>=r}function _(){var t=g();if(v(t))return w(t);s=setTimeout(_,function(t){var n=e-(t-c);return l?m(n,r-(t-d)):n}(t))}function w(t){return s=void 0,f&&i?h(t):(i=o=void 0,a)}function j(){var t=g(),n=v(t);if(i=arguments,o=this,c=t,n){if(void 0===s)return function(t){return d=t,s=setTimeout(_,e),u?h(t):a}(c);if(l)return s=setTimeout(_,e),h(c)}return void 0===s&&(s=setTimeout(_,e)),a}return e=y(e)||0,b(n)&&(u=!!n.leading,r=(l=\"maxWait\"in n)?p(y(n.maxWait)||0,e):r,f=\"trailing\"in n?!!n.trailing:f),j.cancel=function(){void 0!==s&&clearTimeout(s),d=0,i=c=o=s=void 0},j.flush=function(){return void 0===s?a:w(g())},j}},777:t=>{var e,n,i=Math.max,o=(e=function(t,e){return function(t,e,n){if(\"function\"!=typeof t)throw new TypeError(\"Expected a function\");return setTimeout((function(){t.apply(void 0,n)}),1)}(t,0,e)},n=i(void 0===n?e.length-1:n,0),function(){for(var t=arguments,o=-1,r=i(t.length-n,0),a=Array(r);++o<r;)a[o]=t[n+o];o=-1;for(var s=Array(n+1);++o<n;)s[o]=t[o];return s[n]=a,function(t,e,n){switch(n.length){case 0:return t.call(e);case 1:return t.call(e,n[0]);case 2:return t.call(e,n[0],n[1]);case 3:return t.call(e,n[0],n[1],n[2])}return t.apply(e,n)}(e,this,s)});t.exports=o}},e={};function n(i){var o=e[i];if(void 0!==o)return o.exports;var r=e[i]={exports:{}};return t[i](r,r.exports,n),r.exports}n.n=t=>{var e=t&&t.__esModule?()=>t.default:()=>t;return n.d(e,{a:e}),e},n.d=(t,e)=>{for(var i in e)n.o(e,i)&&!n.o(t,i)&&Object.defineProperty(t,i,{enumerable:!0,get:e[i]})},n.g=function(){if(\"object\"==typeof globalThis)return globalThis;try{return this||new Function(\"return this\")()}catch(t){if(\"object\"==typeof window)return window}}(),n.o=(t,e)=>Object.prototype.hasOwnProperty.call(t,e),(()=>{\"use strict\";const t=t=>{const e=new Set;do{for(const n of Reflect.ownKeys(t))e.add([t,n])}while((t=Reflect.getPrototypeOf(t))&&t!==Object.prototype);return e};function e(e,{include:n,exclude:i}={}){const o=t=>{const e=e=>\"string\"==typeof e?t===e:e.test(t);return n?n.some(e):!i||!i.some(e)};for(const[n,i]of t(e.constructor.prototype)){if(\"constructor\"===i||!o(i))continue;const t=Reflect.getOwnPropertyDescriptor(n,i);t&&\"function\"==typeof t.value&&(e[i]=e[i].bind(e))}return e}var i=n(777),o=n.n(i),r=n(296),a=n.n(r);class s{constructor(t,n){e(this),this.interfaceId=t,this.callbackMap={},this.data={},this.pendingData={},this.jcomm=new c(\"guidance_interface_target_\"+this.interfaceId,this.updateData,\"open\"),this.debouncedSendPendingData500=a()(this.sendPendingData,500),this.debouncedSendPendingData1000=a()(this.sendPendingData,1e3),n&&o()(n)}send(t,e){this.addPendingData(t,e),this.sendPendingData()}sendEvent(t){for(const e of Object.keys(t))this.addPendingData(e,t[e]);this.sendPendingData()}debouncedSendEvent500(t){for(const e of Object.keys(t))this.addPendingData(e,t[e]);this.debouncedSendPendingData500()}debouncedSend500(t,e){this.addPendingData(t,e),this.debouncedSendPendingData500()}debouncedSend1000(t,e){this.addPendingData(t,e),this.debouncedSendPendingData1000()}addPendingData(t,e){Array.isArray(t)||(t=[t]);for(const n in t)this.pendingData[t[n]]=e}updateData(t){t=JSON.parse(t.data);for(const e in t)this.data[e]=t[e];for(const e in t)e in this.callbackMap&&this.callbackMap[e](this.data[e])}subscribe(t,e){this.callbackMap[t]=e,o()((e=>this.callbackMap[t](this.data[t])))}sendPendingData(){this.jcomm.send_data(this.pendingData),this.pendingData={}}}class c{constructor(t,e,n=\"open\"){this._fire_callback=this._fire_callback.bind(this),this._register=this._register.bind(this),this.jcomm=void 0,this.callback=e,void 0!==window.Jupyter?\"register\"===n?Jupyter.notebook.kernel.comm_manager.register_target(t,this._register):(this.jcomm=Jupyter.notebook.kernel.comm_manager.new_comm(t),this.jcomm.on_msg(this._fire_callback)):void 0!==window._mgr&&(\"register\"===n?window._mgr.widgetManager.proxyKernel.registerCommTarget(t,this._register):(this.jcomm=window._mgr.widgetManager.proxyKernel.createComm(t),this.jcomm.open({},\"\"),this.jcomm.onMsg=this._fire_callback))}send_data(t){void 0!==this.jcomm?this.jcomm.send(t):console.error(\"Jupyter comm module not yet loaded! So we can't send the message.\")}_register(t,e){this.jcomm=t,this.jcomm.on_msg(this._fire_callback)}_fire_callback(t){this.callback(t.content.data)}}class d{constructor(t,n){e(this),this.id=t,this.comm=new s(t),this.comm.subscribe(\"append\",this.appendData),this.comm.subscribe(\"replace\",this.replaceData),this.comm.subscribe(\"event\",this.eventOccurred),this.element=document.getElementById(\"guidance-content-\"+t),this.stop_button=document.getElementById(\"guidance-stop-button-\"+t),this.stop_button.onclick=()=>this.comm.send(\"event\",\"stop\")}appendData(t){t&&(this.stop_button.style.display=\"inline-block\",this.element.innerHTML+=t)}replaceData(t){t&&(this.stop_button.style.display=\"inline-block\",this.element.innerHTML=t)}eventOccurred(t){\"complete\"===t&&(this.stop_button.style.display=\"none\")}}window._guidanceDisplay=function(t,e){return new d(t,e)}})()})();; window._guidanceDisplay(\"7b43ff01-f157-4160-8202-81c62c3f9020\");</script>"
      ]
     },
     "metadata": {},
     "output_type": "display_data"
    },
    {
     "ename": "KeyError",
     "evalue": "'unit_test_code'",
     "output_type": "error",
     "traceback": [
      "\u001b[1;31m---------------------------------------------------------------------------\u001b[0m",
      "\u001b[1;31mKeyError\u001b[0m                                  Traceback (most recent call last)",
      "\u001b[1;32m~\\AppData\\Local\\Temp\\ipykernel_23272\\4242985336.py\u001b[0m in \u001b[0;36m<module>\u001b[1;34m\u001b[0m\n\u001b[0;32m     35\u001b[0m \u001b[1;33m\u001b[0m\u001b[0m\n\u001b[0;32m     36\u001b[0m \u001b[1;31m# 获取生成的单元测试代码\u001b[0m\u001b[1;33m\u001b[0m\u001b[1;33m\u001b[0m\u001b[0m\n\u001b[1;32m---> 37\u001b[1;33m \u001b[0munit_test_code\u001b[0m \u001b[1;33m=\u001b[0m \u001b[0mexecuted_program\u001b[0m\u001b[1;33m[\u001b[0m\u001b[1;34m\"unit_test_code\"\u001b[0m\u001b[1;33m]\u001b[0m\u001b[1;33m\u001b[0m\u001b[1;33m\u001b[0m\u001b[0m\n\u001b[0m\u001b[0;32m     38\u001b[0m \u001b[0mprint\u001b[0m\u001b[1;33m(\u001b[0m\u001b[0munit_test_code\u001b[0m\u001b[1;33m)\u001b[0m\u001b[1;33m\u001b[0m\u001b[1;33m\u001b[0m\u001b[0m\n",
      "\u001b[1;32m~\\anaconda3\\lib\\site-packages\\guidance\\_program.py\u001b[0m in \u001b[0;36m__getitem__\u001b[1;34m(self, key)\u001b[0m\n\u001b[0;32m    468\u001b[0m \u001b[1;33m\u001b[0m\u001b[0m\n\u001b[0;32m    469\u001b[0m     \u001b[1;32mdef\u001b[0m \u001b[0m__getitem__\u001b[0m\u001b[1;33m(\u001b[0m\u001b[0mself\u001b[0m\u001b[1;33m,\u001b[0m \u001b[0mkey\u001b[0m\u001b[1;33m)\u001b[0m\u001b[1;33m:\u001b[0m\u001b[1;33m\u001b[0m\u001b[1;33m\u001b[0m\u001b[0m\n\u001b[1;32m--> 470\u001b[1;33m         \u001b[1;32mreturn\u001b[0m \u001b[0mself\u001b[0m\u001b[1;33m.\u001b[0m\u001b[0m_variables\u001b[0m\u001b[1;33m[\u001b[0m\u001b[0mkey\u001b[0m\u001b[1;33m]\u001b[0m\u001b[1;33m\u001b[0m\u001b[1;33m\u001b[0m\u001b[0m\n\u001b[0m\u001b[0;32m    471\u001b[0m \u001b[1;33m\u001b[0m\u001b[0m\n\u001b[0;32m    472\u001b[0m     \u001b[1;32mdef\u001b[0m \u001b[0m__contains__\u001b[0m\u001b[1;33m(\u001b[0m\u001b[0mself\u001b[0m\u001b[1;33m,\u001b[0m \u001b[0mkey\u001b[0m\u001b[1;33m)\u001b[0m\u001b[1;33m:\u001b[0m\u001b[1;33m\u001b[0m\u001b[1;33m\u001b[0m\u001b[0m\n",
      "\u001b[1;31mKeyError\u001b[0m: 'unit_test_code'"
     ]
    }
   ],
   "source": [
    "import guidance\n",
    "import openai\n",
    "\n",
    "# connect to a chat model like GPT-4 or Vicuna\n",
    "guidance.llm = guidance.llms.OpenAI(\"gpt-4\", api_key=\"\")\n",
    "# vicuna = guidance.llms.transformers.Vicuna(\"your_path/vicuna_13B\", device_map=\"auto\")\n",
    "\n",
    "# 定义guidance程序\n",
    "unit_test_program = guidance('''\n",
    "{{#system~}}\n",
    "You are a UniTest code generator.\n",
    "{{~/system}}\n",
    "\n",
    "{{#user~}}\n",
    "- use NUnit test framework\n",
    "- use C#\n",
    "- the test environment is Unity\n",
    "- generate code with explanation\n",
    "- My code is:\n",
    "{{code_block}}\n",
    "Write the unit test cases for the above code.\n",
    "{{~/user}}\n",
    "\n",
    "{{#assistant~}}\n",
    "{{gen 'unit_test_code' temperature=0.5 max_tokens=500}}\n",
    "{{~/assistant}}\n",
    "''')\n",
    "\n",
    "# 提供要测试的代码并执行程序\n",
    "code_to_test = '''\n",
    "\n",
    "'''\n",
    "\n",
    "executed_program = unit_test_program(code_block=code_to_test)\n",
    "\n",
    "# 获取生成的单元测试代码\n",
    "unit_test_code = executed_program[\"unit_test_code\"]\n",
    "print(unit_test_code)"
   ]
  },
  {
   "cell_type": "code",
   "execution_count": null,
   "id": "891f3bef",
   "metadata": {
    "scrolled": true
   },
   "outputs": [],
   "source": []
  },
  {
   "cell_type": "code",
   "execution_count": null,
   "id": "65f8a24b",
   "metadata": {},
   "outputs": [],
   "source": []
  }
 ],
 "metadata": {
  "kernelspec": {
   "display_name": "Python 3 (ipykernel)",
   "language": "python",
   "name": "python3"
  },
  "language_info": {
   "codemirror_mode": {
    "name": "ipython",
    "version": 3
   },
   "file_extension": ".py",
   "mimetype": "text/x-python",
   "name": "python",
   "nbconvert_exporter": "python",
   "pygments_lexer": "ipython3",
   "version": "3.9.13"
  }
 },
 "nbformat": 4,
 "nbformat_minor": 5
}
